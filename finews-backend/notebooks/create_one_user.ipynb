{
 "cells": [
  {
   "cell_type": "code",
   "execution_count": 1,
   "metadata": {},
   "outputs": [],
   "source": [
    "# Add this at the beginning of the notebook, before any other imports\n",
    "import sys\n",
    "import os\n",
    "\n",
    "sys.path.append(os.path.dirname(os.path.abspath('.')))"
   ]
  },
  {
   "cell_type": "code",
   "execution_count": 2,
   "metadata": {},
   "outputs": [],
   "source": [
    "import asyncio\n",
    "from sqlalchemy import select\n",
    "from db.database import AsyncSessionLocal, SessionLocal\n",
    "from models.models import User\n",
    "from passlib.context import CryptContext"
   ]
  },
  {
   "cell_type": "code",
   "execution_count": 3,
   "metadata": {},
   "outputs": [],
   "source": [
    "# Password context for hashing - this is the FastAPI recommended way\n",
    "pwd_context = CryptContext(schemes=[\"bcrypt\"], deprecated=\"auto\")\n",
    "\n",
    "async def create_user():\n",
    "    async with AsyncSessionLocal() as session:\n",
    "        # Create a new user\n",
    "        new_user = User(\n",
    "            username=\"test\",\n",
    "            email=\"test@example.com\",\n",
    "            password_hash=pwd_context.hash(\"123456\")  # Using FastAPI's recommended hashing\n",
    "        )\n",
    "        \n",
    "        # Add to session and commit\n",
    "        session.add(new_user)\n",
    "        await session.commit()\n",
    "        await session.refresh(new_user)\n",
    "        \n",
    "        # Verify the user was created\n",
    "        result = await session.execute(select(User).filter_by(username=\"test\"))\n",
    "        created_user = result.scalar_one()\n",
    "        print(f\"Created user: {created_user.username} (ID: {created_user.id})\")\n",
    "    \n",
    "    return created_user"
   ]
  },
  {
   "cell_type": "code",
   "execution_count": 6,
   "metadata": {},
   "outputs": [
    {
     "name": "stdout",
     "output_type": "stream",
     "text": [
      "Created user: test (ID: 1)\n"
     ]
    }
   ],
   "source": [
    "created_user = await create_user()"
   ]
  },
  {
   "cell_type": "code",
   "execution_count": 7,
   "metadata": {},
   "outputs": [],
   "source": [
    "async def get_user_by_id(id: int):\n",
    "    async with AsyncSessionLocal() as session:\n",
    "        result = await session.execute(select(User).filter_by(id=id))\n",
    "        return result.scalar_one()"
   ]
  },
  {
   "cell_type": "code",
   "execution_count": 8,
   "metadata": {},
   "outputs": [],
   "source": [
    "current_user = await get_user_by_id(1)"
   ]
  },
  {
   "cell_type": "code",
   "execution_count": 9,
   "metadata": {},
   "outputs": [
    {
     "data": {
      "text/plain": [
       "'test'"
      ]
     },
     "execution_count": 9,
     "metadata": {},
     "output_type": "execute_result"
    }
   ],
   "source": [
    "current_user.username"
   ]
  },
  {
   "cell_type": "code",
   "execution_count": 10,
   "metadata": {},
   "outputs": [
    {
     "data": {
      "text/plain": [
       "True"
      ]
     },
     "execution_count": 10,
     "metadata": {},
     "output_type": "execute_result"
    }
   ],
   "source": [
    "created_user.password_hash\n",
    "pwd_context.verify(\"123456\", created_user.password_hash)"
   ]
  },
  {
   "cell_type": "code",
   "execution_count": null,
   "metadata": {},
   "outputs": [],
   "source": []
  }
 ],
 "metadata": {
  "kernelspec": {
   "display_name": ".venv",
   "language": "python",
   "name": "python3"
  },
  "language_info": {
   "codemirror_mode": {
    "name": "ipython",
    "version": 3
   },
   "file_extension": ".py",
   "mimetype": "text/x-python",
   "name": "python",
   "nbconvert_exporter": "python",
   "pygments_lexer": "ipython3",
   "version": "3.12.2"
  }
 },
 "nbformat": 4,
 "nbformat_minor": 2
}
